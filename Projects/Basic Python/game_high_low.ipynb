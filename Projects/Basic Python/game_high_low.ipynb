{
 "cells": [
  {
   "cell_type": "code",
   "execution_count": null,
   "id": "36878a98",
   "metadata": {},
   "outputs": [],
   "source": [
    "# this is the game of high and low in python"
   ]
  },
  {
   "cell_type": "code",
   "execution_count": 8,
   "id": "8213d92b",
   "metadata": {},
   "outputs": [
    {
     "name": "stdout",
     "output_type": "stream",
     "text": [
      "Enter the lower limit and higher limit of your choice in the game respectively:\n",
      "50\n",
      "100\n",
      "You have only 7 guesses to find what is the random number that the computer has used:\n",
      "75\n",
      "You have guessed the number too low.\n",
      "85\n",
      "You have guessed the number too high.\n",
      "80\n",
      "You have guessed the number too low.\n",
      "83\n",
      "You have guessed the number correctly.\n",
      "Thank you for playing high and low with us. (^.^)\n"
     ]
    }
   ],
   "source": [
    "import random\n",
    "print(\"Enter the lower limit and higher limit of your choice in the game respectively:\")\n",
    "lower= int(input())\n",
    "upper= int(input())\n",
    "print(\"You have only 7 guesses to find what is the random number that the computer has used:\")\n",
    "# now create a certain variable that can save that random number produced by computer\n",
    "x = random.randint(lower, upper)\n",
    "guess = 0\n",
    "# now create a range in which allows only a certain number of moves to win.\n",
    "for i in range(0,7):\n",
    "    #using int() ensures that the datatype at runtime would be int and wont cause errors with the comparison operators.\n",
    "    guess = int(input())\n",
    "    if (x== guess):\n",
    "        print(\"You have guessed the number correctly.\")\n",
    "        break\n",
    "    elif(x>guess):\n",
    "        print(\"You have guessed the number too low.\")\n",
    "    elif(x<guess):\n",
    "        print(\"You have guessed the number too high.\")\n",
    "print(\"Thank you for playing high and low with us. (^.^)\")"
   ]
  },
  {
   "cell_type": "code",
   "execution_count": null,
   "id": "b5827267",
   "metadata": {},
   "outputs": [],
   "source": []
  },
  {
   "cell_type": "code",
   "execution_count": null,
   "id": "7204cda0",
   "metadata": {},
   "outputs": [],
   "source": []
  }
 ],
 "metadata": {
  "kernelspec": {
   "display_name": "Python 3 (ipykernel)",
   "language": "python",
   "name": "python3"
  },
  "language_info": {
   "codemirror_mode": {
    "name": "ipython",
    "version": 3
   },
   "file_extension": ".py",
   "mimetype": "text/x-python",
   "name": "python",
   "nbconvert_exporter": "python",
   "pygments_lexer": "ipython3",
   "version": "3.11.5"
  }
 },
 "nbformat": 4,
 "nbformat_minor": 5
}
